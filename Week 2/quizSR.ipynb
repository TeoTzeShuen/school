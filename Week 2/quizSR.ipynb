{
 "cells": [
  {
   "cell_type": "code",
   "execution_count": 2,
   "metadata": {},
   "outputs": [
    {
     "name": "stdout",
     "output_type": "stream",
     "text": [
      "   STUDENT_ID  AGE  GENDER  MARKS\n",
      "0           1   19       1   47.2\n",
      "1           2   20       1   62.9\n",
      "2           3   20       2   50.4\n",
      "3           4   18       1   99.4\n",
      "4           5   18       2   62.3\n",
      "STUDENT_ID      int64\n",
      "AGE             int64\n",
      "GENDER          int64\n",
      "MARKS         float64\n",
      "dtype: object\n"
     ]
    }
   ],
   "source": [
    "import pandas as pd\n",
    "results = pd.read_excel('Student_Results.xlsx')\n",
    "print(results.head())\n",
    "print(results.dtypes)"
   ]
  },
  {
   "cell_type": "code",
   "execution_count": 3,
   "metadata": {},
   "outputs": [
    {
     "name": "stdout",
     "output_type": "stream",
     "text": [
      "   STUDENT_ID  AGE  GENDER  MARKS\n",
      "0           1   19       1   47.0\n",
      "1           2   20       1   63.0\n",
      "2           3   20       2   50.0\n",
      "3           4   18       1   99.0\n",
      "4           5   18       2   62.0\n",
      "STUDENT_ID      int64\n",
      "AGE             int64\n",
      "GENDER          int64\n",
      "MARKS         float64\n",
      "dtype: object\n"
     ]
    }
   ],
   "source": [
    "results['MARKS']=round(results['MARKS'],ndigits=0)\n",
    "print(results.head())\n",
    "print(results.dtypes)"
   ]
  }
 ],
 "metadata": {
  "interpreter": {
   "hash": "f6d1656d486d8a047eab5a4d8a3339a2b0fcf3494e8697291b4e3406840e7ad7"
  },
  "kernelspec": {
   "display_name": "Python 3.9.7 64-bit (windows store)",
   "name": "python3"
  },
  "language_info": {
   "codemirror_mode": {
    "name": "ipython",
    "version": 3
   },
   "file_extension": ".py",
   "mimetype": "text/x-python",
   "name": "python",
   "nbconvert_exporter": "python",
   "pygments_lexer": "ipython3",
   "version": "3.9.7"
  },
  "orig_nbformat": 4
 },
 "nbformat": 4,
 "nbformat_minor": 2
}
