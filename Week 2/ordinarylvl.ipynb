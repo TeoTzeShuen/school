{
 "cells": [
  {
   "cell_type": "code",
   "execution_count": 2,
   "metadata": {},
   "outputs": [
    {
     "name": "stdout",
     "output_type": "stream",
     "text": [
      "[1, 1, 1, 2, 2, 2, 2, 2, 3, 3, 3, 3, 3, 3, 4, 4, 4, 4, 4, 4, 4, 4, 4, 4, 4, 5, 5, 5, 5, 5, 5, 5]\n",
      "3.4375\n",
      "4.0\n"
     ]
    }
   ],
   "source": [
    "import numpy as np\n",
    "results = [5,4,3,4,5,3,2,5,3,2,1,4,5,3,4,4,5,4,2,1,4,5,4,3,2,4,4,5,4,3,2,1]\n",
    "sorted_results = sorted(results)\n",
    "print (sorted_results)\n",
    "print (np.mean(results))\n",
    "print (np.median (results))"
   ]
  }
 ],
 "metadata": {
  "interpreter": {
   "hash": "f6d1656d486d8a047eab5a4d8a3339a2b0fcf3494e8697291b4e3406840e7ad7"
  },
  "kernelspec": {
   "display_name": "Python 3.9.7 64-bit (windows store)",
   "name": "python3"
  },
  "language_info": {
   "codemirror_mode": {
    "name": "ipython",
    "version": 3
   },
   "file_extension": ".py",
   "mimetype": "text/x-python",
   "name": "python",
   "nbconvert_exporter": "python",
   "pygments_lexer": "ipython3",
   "version": "3.9.7"
  },
  "orig_nbformat": 4
 },
 "nbformat": 4,
 "nbformat_minor": 2
}
