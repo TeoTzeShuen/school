{
 "cells": [
  {
   "cell_type": "code",
   "execution_count": 1,
   "metadata": {},
   "outputs": [
    {
     "data": {
      "text/plain": [
       "1.053875867280592"
      ]
     },
     "execution_count": 1,
     "metadata": {},
     "output_type": "execute_result"
    }
   ],
   "source": [
    "from sklearn.datasets import load_diabetes\n",
    "data_obj = load_diabetes()\n",
    "\n",
    "import pandas as pd\n",
    "data = pd.DataFrame(data_obj['data'], columns=data_obj['feature_names'])\n",
    "data.loc[:,['age','bmi']]\n",
    "sum(data.iloc[100:, 2])\n"
   ]
  }
 ],
 "metadata": {
  "interpreter": {
   "hash": "f6d1656d486d8a047eab5a4d8a3339a2b0fcf3494e8697291b4e3406840e7ad7"
  },
  "kernelspec": {
   "display_name": "Python 3.9.7 64-bit (windows store)",
   "name": "python3"
  },
  "language_info": {
   "codemirror_mode": {
    "name": "ipython",
    "version": 3
   },
   "file_extension": ".py",
   "mimetype": "text/x-python",
   "name": "python",
   "nbconvert_exporter": "python",
   "pygments_lexer": "ipython3",
   "version": "3.9.7"
  },
  "orig_nbformat": 4
 },
 "nbformat": 4,
 "nbformat_minor": 2
}
