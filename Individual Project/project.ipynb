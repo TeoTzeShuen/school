{
 "cells": [
  {
   "cell_type": "code",
   "execution_count": 1,
   "metadata": {},
   "outputs": [],
   "source": [
    "# Teo Tze Shuen\n",
    "# S10204885\n",
    "# Diploma in Accountancy\n",
    "# TA24"
   ]
  },
  {
   "cell_type": "code",
   "execution_count": 2,
   "metadata": {},
   "outputs": [],
   "source": [
    "# TODO - project requirements\n",
    "# 1.    Create non-visual or visual plots to inspect each categorical and numeric field.\n",
    "# 2.    Identify potential data quality issues including data types.\n",
    "# 3.\tClean up the data for the issues identified.\n",
    "# 4.\tPerform further data exploration on the cleaned data to uncover any interesting insight(s) using any two visual plots of your choice. (1/2)\n",
    "\n",
    "#5. check that it all works on google colab\n",
    "\n",
    "# IDEAS in progress: \n",
    "# comparison: NOT_REGISTERED values to fraud?"
   ]
  },
  {
   "cell_type": "code",
   "execution_count": 4,
   "metadata": {},
   "outputs": [],
   "source": [
    "# import relevant libraries - note i'm doing this first in VScode (for faster IntelliSense & version control)\n",
    "import pandas as pd\n",
    "import numpy as np\n",
    "import seaborn as sns\n",
    "from matplotlib import pyplot as plt"
   ]
  },
  {
   "cell_type": "code",
   "execution_count": 5,
   "metadata": {},
   "outputs": [],
   "source": [
    "# other misc stuff related to libraries\n",
    "sns.set_theme(style='white')"
   ]
  },
  {
   "cell_type": "code",
   "execution_count": null,
   "metadata": {},
   "outputs": [],
   "source": [
    "# to plot\n",
    "#0   user_id         151112 non-null  int64  \n",
    "#1   purchase_value  151112 non-null  int64  /\n",
    "#2   device_id       151112 non-null  object \n",
    "#3   source          151112 non-null  object /\n",
    "#4   browser         151112 non-null  object / (remove not_captured)\n",
    "#5   sex             151112 non-null  object /\n",
    "#6   age             144546 non-null  float64 / (remove missing values)\n",
    "#7   ip_address      151112 non-null  float64\n",
    "#8   days            151112 non-null  int64  /\n",
    "#9   is_fraud        151112 non-null  int64 /"
   ]
  },
  {
   "cell_type": "code",
   "execution_count": 6,
   "metadata": {},
   "outputs": [
    {
     "name": "stdout",
     "output_type": "stream",
     "text": [
      "<class 'pandas.core.frame.DataFrame'>\n",
      "RangeIndex: 151112 entries, 0 to 151111\n",
      "Data columns (total 10 columns):\n",
      " #   Column          Non-Null Count   Dtype  \n",
      "---  ------          --------------   -----  \n",
      " 0   user_id         151112 non-null  int64  \n",
      " 1   purchase_value  151112 non-null  int64  \n",
      " 2   device_id       151112 non-null  object \n",
      " 3   source          151112 non-null  object \n",
      " 4   browser         151112 non-null  object \n",
      " 5   sex             151112 non-null  object \n",
      " 6   age             144546 non-null  float64\n",
      " 7   ip_address      151112 non-null  float64\n",
      " 8   days            151112 non-null  int64  \n",
      " 9   is_fraud        151112 non-null  int64  \n",
      "dtypes: float64(2), int64(4), object(4)\n",
      "memory usage: 11.5+ MB\n"
     ]
    }
   ],
   "source": [
    "df = pd.read_excel('Fraud_Data_Final.xlsx')\n",
    "df.info() \n",
    "# first, we check that the data imports sucessfully & get info on the data (to spot any glaring errors)"
   ]
  },
  {
   "cell_type": "code",
   "execution_count": 7,
   "metadata": {},
   "outputs": [],
   "source": [
    "# age has only 144546 values, or around 4.35% of the total values missing- as such we can remove the rows with missing values if necessary (under 5%)\n",
    "# We will create a 'cleaned' dataset later to clean."
   ]
  },
  {
   "cell_type": "code",
   "execution_count": 15,
   "metadata": {},
   "outputs": [
    {
     "data": {
      "text/plain": [
       "[Text(0.5, 0, 'Raw Data')]"
      ]
     },
     "execution_count": 15,
     "metadata": {},
     "output_type": "execute_result"
    },
    {
     "data": {
      "image/png": "[encoded data removed]",
      "text/plain": [
       "<Figure size 432x288 with 1 Axes>"
      ]
     },
     "metadata": {},
     "output_type": "display_data"
    }
   ],
   "source": [
    "#plot a boxplot to see the distribution and quartiles of the purchase values.\n",
    "sns.boxplot(data=df['purchase_value'], ).set(xlabel='Purchase value')"
   ]
  },
  {
   "cell_type": "code",
   "execution_count": 32,
   "metadata": {},
   "outputs": [
    {
     "data": {
      "image/png": "[encoded data removed]",
      "text/plain": [
       "<Figure size 432x288 with 1 Axes>"
      ]
     },
     "metadata": {},
     "output_type": "display_data"
    }
   ],
   "source": [
    "# massive outliers here - dictionary says value should be capped at 400, so we will hard cap the value at that and remove outliers.\n",
    "# we can clean the data later in the 'cleaned' dataset, with the condition to remove rows in which purchase value is over 400.\n",
    "# https://stackoverflow.com/questions/41800424/remove-rows-in-python-less-than-a-certain-value\n",
    "\n",
    "# The most notable data is the is_fraud value, which will help us with our data exploration later\n",
    "# Draw piechart to determine percentage of fraud cases in dataset\n",
    "explode = (0, 0.2) #explode second slice\n",
    "labels = 'Non-Fraud', 'Fraud'\n",
    "figure1, ax1 = plt.subplots()\n",
    "\n",
    "ax1.pie(df.is_fraud.value_counts(), explode=explode, autopct='%.2f%%', labels=labels) # pie charts, to 2dp\n",
    "plt.show()"
   ]
  },
  {
   "cell_type": "code",
   "execution_count": 17,
   "metadata": {},
   "outputs": [],
   "source": [
    "# Around 9.36% of cases are fraud in the raw data."
   ]
  },
  {
   "cell_type": "code",
   "execution_count": 36,
   "metadata": {},
   "outputs": [
    {
     "data": {
      "text/plain": [
       "<AxesSubplot:xlabel='browser', ylabel='count'>"
      ]
     },
     "execution_count": 36,
     "metadata": {},
     "output_type": "execute_result"
    },
    {
     "data": {
      "image/png": "[encoded data removed]",
      "text/plain": [
       "<Figure size 432x288 with 1 Axes>"
      ]
     },
     "metadata": {},
     "output_type": "display_data"
    }
   ],
   "source": [
    "# plot a countplot to figure out the distribution of browser users\n",
    "sns.countplot(data=df, x='browser')"
   ]
  },
  {
   "cell_type": "code",
   "execution_count": 34,
   "metadata": {},
   "outputs": [],
   "source": [
    "# doesn't seem too interesting, althugh there is the 'not_captured' column of missing value - we can remove it later as it can be considered a missing value"
   ]
  },
  {
   "cell_type": "code",
   "execution_count": 46,
   "metadata": {},
   "outputs": [
    {
     "data": {
      "image/png": "[encoded data removed]",
      "text/plain": [
       "<Figure size 432x288 with 1 Axes>"
      ]
     },
     "metadata": {},
     "output_type": "display_data"
    }
   ],
   "source": [
    "# we can plot the 'sex' data into a piechart to see the distribution of sexes\n",
    "labels2 = 'M', 'F'\n",
    "figure1, ax1 = plt.subplots()\n",
    "\n",
    "ax1.pie(df.sex.value_counts(), autopct='%.2f%%', labels=labels2, startangle=90) # pie charts, to 2dp\n",
    "plt.show()"
   ]
  },
  {
   "cell_type": "code",
   "execution_count": null,
   "metadata": {},
   "outputs": [],
   "source": [
    "# More males than females, no other missing values."
   ]
  },
  {
   "cell_type": "code",
   "execution_count": 51,
   "metadata": {},
   "outputs": [
    {
     "data": {
      "text/plain": [
       "<AxesSubplot:xlabel='age', ylabel='Count'>"
      ]
     },
     "execution_count": 51,
     "metadata": {},
     "output_type": "execute_result"
    },
    {
     "data": {
      "image/png": "[encoded data removed]",
      "text/plain": [
       "<Figure size 432x288 with 1 Axes>"
      ]
     },
     "metadata": {},
     "output_type": "display_data"
    }
   ],
   "source": [
    "sns.histplot(df['age'], kde=True, color='Violet')"
   ]
  },
  {
   "cell_type": "code",
   "execution_count": null,
   "metadata": {},
   "outputs": [],
   "source": [
    "# Interesting, seems like an entire age band is missing. We can clean thta up later - other than that, looks like a fairly typical distribution."
   ]
  },
  {
   "cell_type": "code",
   "execution_count": 52,
   "metadata": {},
   "outputs": [
    {
     "data": {
      "text/plain": [
       "<AxesSubplot:xlabel='source', ylabel='count'>"
      ]
     },
     "execution_count": 52,
     "metadata": {},
     "output_type": "execute_result"
    },
    {
     "data": {
      "image/png": "[encoded data removed]",
      "text/plain": [
       "<Figure size 432x288 with 1 Axes>"
      ]
     },
     "metadata": {},
     "output_type": "display_data"
    }
   ],
   "source": [
    "# Plot a countplot to see the source of the purchases\n",
    "sns.countplot(data=df, x='source')"
   ]
  },
  {
   "cell_type": "code",
   "execution_count": null,
   "metadata": {},
   "outputs": [],
   "source": [
    "# Nothing odd, ads and SEO have about the same count. It may be possible that the fraud purchases are direct (keep in view)"
   ]
  },
  {
   "cell_type": "code",
   "execution_count": 54,
   "metadata": {},
   "outputs": [
    {
     "data": {
      "text/plain": [
       "<AxesSubplot:xlabel='days', ylabel='Count'>"
      ]
     },
     "execution_count": 54,
     "metadata": {},
     "output_type": "execute_result"
    },
    {
     "data": {
      "image/png": "[encoded data removed]",
      "text/plain": [
       "<Figure size 432x288 with 1 Axes>"
      ]
     },
     "metadata": {},
     "output_type": "display_data"
    }
   ],
   "source": [
    "# Plot a histogram to see the distribution of days\n",
    "sns.histplot(df['days'], kde=True)"
   ]
  },
  {
   "cell_type": "code",
   "execution_count": 55,
   "metadata": {},
   "outputs": [
    {
     "data": {
      "text/html": [
       "<div>\n",
       "<style scoped>\n",
       "    .dataframe tbody tr th:only-of-type {\n",
       "        vertical-align: middle;\n",
       "    }\n",
       "\n",
       "    .dataframe tbody tr th {\n",
       "        vertical-align: top;\n",
       "    }\n",
       "\n",
       "    .dataframe thead th {\n",
       "        text-align: right;\n",
       "    }\n",
       "</style>\n",
       "<table border=\"1\" class=\"dataframe\">\n",
       "  <thead>\n",
       "    <tr style=\"text-align: right;\">\n",
       "      <th></th>\n",
       "      <th>user_id</th>\n",
       "      <th>purchase_value</th>\n",
       "      <th>device_id</th>\n",
       "      <th>source</th>\n",
       "      <th>browser</th>\n",
       "      <th>sex</th>\n",
       "      <th>age</th>\n",
       "      <th>ip_address</th>\n",
       "      <th>days</th>\n",
       "      <th>is_fraud</th>\n",
       "    </tr>\n",
       "  </thead>\n",
       "  <tbody>\n",
       "    <tr>\n",
       "      <th>0</th>\n",
       "      <td>22058</td>\n",
       "      <td>34</td>\n",
       "      <td>QVPSPJUOCKZAR</td>\n",
       "      <td>SEO</td>\n",
       "      <td>Chrome</td>\n",
       "      <td>M</td>\n",
       "      <td>39.0</td>\n",
       "      <td>7.327584e+08</td>\n",
       "      <td>52</td>\n",
       "      <td>0</td>\n",
       "    </tr>\n",
       "    <tr>\n",
       "      <th>1</th>\n",
       "      <td>333320</td>\n",
       "      <td>16</td>\n",
       "      <td>EOGFQPIZPYXFZ</td>\n",
       "      <td>Ads</td>\n",
       "      <td>Chrome</td>\n",
       "      <td>F</td>\n",
       "      <td>53.0</td>\n",
       "      <td>3.503114e+08</td>\n",
       "      <td>0</td>\n",
       "      <td>0</td>\n",
       "    </tr>\n",
       "    <tr>\n",
       "      <th>2</th>\n",
       "      <td>1359</td>\n",
       "      <td>15</td>\n",
       "      <td>YSSKYOSJHPPLJ</td>\n",
       "      <td>SEO</td>\n",
       "      <td>Opera</td>\n",
       "      <td>M</td>\n",
       "      <td>53.0</td>\n",
       "      <td>2.621474e+09</td>\n",
       "      <td>0</td>\n",
       "      <td>1</td>\n",
       "    </tr>\n",
       "    <tr>\n",
       "      <th>3</th>\n",
       "      <td>150084</td>\n",
       "      <td>44</td>\n",
       "      <td>ATGTXKYKUDUQN</td>\n",
       "      <td>SEO</td>\n",
       "      <td>Safari</td>\n",
       "      <td>M</td>\n",
       "      <td>41.0</td>\n",
       "      <td>3.840542e+09</td>\n",
       "      <td>6</td>\n",
       "      <td>0</td>\n",
       "    </tr>\n",
       "    <tr>\n",
       "      <th>4</th>\n",
       "      <td>221365</td>\n",
       "      <td>39</td>\n",
       "      <td>NAUITBZFJKHWW</td>\n",
       "      <td>Ads</td>\n",
       "      <td>Safari</td>\n",
       "      <td>M</td>\n",
       "      <td>45.0</td>\n",
       "      <td>4.155831e+08</td>\n",
       "      <td>50</td>\n",
       "      <td>0</td>\n",
       "    </tr>\n",
       "  </tbody>\n",
       "</table>\n",
       "</div>"
      ],
      "text/plain": [
       "   user_id  purchase_value      device_id source browser sex   age  \\\n",
       "0    22058              34  QVPSPJUOCKZAR    SEO  Chrome   M  39.0   \n",
       "1   333320              16  EOGFQPIZPYXFZ    Ads  Chrome   F  53.0   \n",
       "2     1359              15  YSSKYOSJHPPLJ    SEO   Opera   M  53.0   \n",
       "3   150084              44  ATGTXKYKUDUQN    SEO  Safari   M  41.0   \n",
       "4   221365              39  NAUITBZFJKHWW    Ads  Safari   M  45.0   \n",
       "\n",
       "     ip_address  days  is_fraud  \n",
       "0  7.327584e+08    52         0  \n",
       "1  3.503114e+08     0         0  \n",
       "2  2.621474e+09     0         1  \n",
       "3  3.840542e+09     6         0  \n",
       "4  4.155831e+08    50         0  "
      ]
     },
     "execution_count": 55,
     "metadata": {},
     "output_type": "execute_result"
    }
   ],
   "source": [
    "# Interesting, there is a spike on day 0 but after that the smoothed value remains almost constant. No glaring missing values.\n",
    "\n",
    "# Lastly, we use .head to inspect the values which are not needed for calculation (ip_address, user_id, purchase_id) and to correct any wrong datatypes.\n",
    "df.head()"
   ]
  },
  {
   "cell_type": "code",
   "execution_count": 62,
   "metadata": {},
   "outputs": [
    {
     "name": "stdout",
     "output_type": "stream",
     "text": [
      "<class 'pandas.core.frame.DataFrame'>\n",
      "Int64Index: 144510 entries, 0 to 151111\n",
      "Data columns (total 10 columns):\n",
      " #   Column          Non-Null Count   Dtype \n",
      "---  ------          --------------   ----- \n",
      " 0   user_id         144510 non-null  object\n",
      " 1   purchase_value  144510 non-null  int64 \n",
      " 2   device_id       144510 non-null  object\n",
      " 3   source          144510 non-null  object\n",
      " 4   browser         144510 non-null  object\n",
      " 5   sex             144510 non-null  object\n",
      " 6   age             144510 non-null  int32 \n",
      " 7   ip_address      144510 non-null  object\n",
      " 8   days            144510 non-null  int64 \n",
      " 9   is_fraud        144510 non-null  bool  \n",
      "dtypes: bool(1), int32(1), int64(2), object(6)\n",
      "memory usage: 10.6+ MB\n"
     ]
    }
   ],
   "source": [
    "# Cleaning of data\n",
    "\n",
    "# First, make a copy of the dataframe so we do not overwrite it\n",
    "df_clean = df.copy()\n",
    "# next, we drop rows with missing values\n",
    "df_clean = df_clean.dropna(axis=0, how='any') \n",
    "\n",
    "# Datatype Fixing\n",
    "\n",
    "# user_id is for identification purposes are not meant for calculation, so we should convert it into a string\n",
    "df_clean = df_clean.astype({'user_id':'str'})\n",
    "\n",
    "# purchase value is meant for calculations, so interger is a good datatype. We can leave it\n",
    "# device_id is also already a string ('object' for python-like string, not the C-type string)\n",
    "# source, browser and sex are all also strings, and as no alculation is required of them we can leave them too.\n",
    "\n",
    "# Age can be changed to a interger to facilitate calculations\n",
    "df_clean = df_clean.astype({'age':'int'})\n",
    "\n",
    "# ip_address is also for identification purposes only and hence we can convert it into a string\n",
    "df_clean = df_clean.astype({'ip_address':'str'}) \n",
    "\n",
    "# days can be used for calculation so we can leave it as is\n",
    "\n",
    "#is_fraud can boolean as it is binary\n",
    "df_clean = df_clean.astype({'is_fraud':'bool'}) \n",
    "\n",
    "\n",
    "# We can remove the rows with NOT_CAPTURED in the browser column that we found in the bar chart.\n",
    "df_clean = df_clean[df_clean.browser != 'NOT_CAPTURED']\n",
    "\n",
    "# Remove the rows in column purchase_value over 400\n",
    "df_clean = df_clean[~(df_clean['purchase_value'] >= 400)]\n",
    "\n",
    "# We can remove duplicates with .drop_duplicates\n",
    "df_clean = df_clean.drop_duplicates()\n",
    "\n",
    "df_clean.info()"
   ]
  },
  {
   "cell_type": "code",
   "execution_count": 20,
   "metadata": {},
   "outputs": [
    {
     "data": {
      "image/png": "[encoded data removed]",
      "text/plain": [
       "<Figure size 432x288 with 1 Axes>"
      ]
     },
     "metadata": {},
     "output_type": "display_data"
    }
   ],
   "source": [
    "# We can try to plot 2 histograms with the fraud vs non fraud data vs concentration of purchase price - \n",
    "# it's possible that fraud purchases could be more or less expensive, showing a skew\n",
    "\n",
    "# Deleted the old, non-regex way which involved splitting the data into 2 dfs. This is cleaner\n",
    "\n",
    "# Plotted in seaborn. I prefer how it looks. - https://seaborn.pydata.org/generated/seaborn.histplot.html\n",
    "# Done with regex - https://kanoki.org/2019/11/12/how-to-use-regex-in-pandas/\n",
    "\n",
    "# A few comments on the params passed\n",
    "# bins=30 - we choose a lower bin value so that the histogram is less 'spotty', won't affect kde anyways\n",
    "# stat='density' - This normalizes the areas of both hisotgrams to 1, making them directly comparable\n",
    "#           - (pct(%) or probability would result in the non fraud hist being notably smaller.) \n",
    "# kde - kernel density emulation helps us build an easily readable smoothed probabiltiy line, making the skew easy to see\n",
    "# log_scale - the raw data is extremely skewed so logaritmic scaling helps make the significant data take up more space along the x-axis.\n",
    "sns.histplot(df_clean[df_clean['is_fraud']==1]['purchase_value'], bins=30, stat='density', kde=True, element=\"step\", label = 'fraud', color=\"orangered\")\n",
    "sns.histplot(df_clean[df_clean['is_fraud']==0]['purchase_value'], bins=30, stat='density', kde=True,  element=\"step\", label = 'non fraud')\n",
    "plt.legend()\n",
    "plt.show()"
   ]
  },
  {
   "cell_type": "code",
   "execution_count": 21,
   "metadata": {},
   "outputs": [],
   "source": [
    "# we can see that the distribution of purchase value for fraud and non fraud cases both have similar distribution curves,\n",
    "# therefore, purchase value is inconclusive to test for fraudulent cases\n",
    "\n",
    "# Another possibility is the time (in the df, 'days') of the purchase. It's possible that the fradulent cases have a different skew in purchase time"
   ]
  },
  {
   "cell_type": "code",
   "execution_count": 22,
   "metadata": {},
   "outputs": [
    {
     "data": {
      "text/plain": [
       "<AxesSubplot:xlabel='days', ylabel='Probability'>"
      ]
     },
     "execution_count": 22,
     "metadata": {},
     "output_type": "execute_result"
    },
    {
     "data": {
      "image/png": "[encoded data removed]",
      "text/plain": [
       "<Figure size 432x288 with 1 Axes>"
      ]
     },
     "metadata": {},
     "output_type": "display_data"
    }
   ],
   "source": [
    "sns.histplot(df[df['is_fraud']==1]['days'],bins=50, stat='probability',color=\"Orange\", element=\"step\")\n",
    "sns.histplot(df[df['is_fraud']==0]['days'],bins=50, stat='probability', element=\"step\")"
   ]
  }
 ],
 "metadata": {
  "interpreter": {
   "hash": "f6d1656d486d8a047eab5a4d8a3339a2b0fcf3494e8697291b4e3406840e7ad7"
  },
  "kernelspec": {
   "display_name": "Python 3.9.7 64-bit (windows store)",
   "name": "python3"
  },
  "language_info": {
   "codemirror_mode": {
    "name": "ipython",
    "version": 3
   },
   "file_extension": ".py",
   "mimetype": "text/x-python",
   "name": "python",
   "nbconvert_exporter": "python",
   "pygments_lexer": "ipython3",
   "version": "3.9.9"
  },
  "orig_nbformat": 4
 },
 "nbformat": 4,
 "nbformat_minor": 2
}
