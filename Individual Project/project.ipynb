{
 "cells": [
  {
   "cell_type": "code",
   "execution_count": 78,
   "metadata": {},
   "outputs": [],
   "source": [
    "# Teo Tze Shuen\n",
    "# S10204885\n",
    "# Diploma in Accountancy\n",
    "# TA24"
   ]
  },
  {
   "cell_type": "code",
   "execution_count": 79,
   "metadata": {},
   "outputs": [],
   "source": [
    "# TODO - delete when done with project\n",
    "# 1.    Create non-visual or visual plots to inspect each categorical and numeric field.\n",
    "# 2.    Identify potential data quality issues including data types.\n",
    "# 3.\tClean up the data for the issues identified.\n",
    "# 4.\tPerform further data exploration on the cleaned data to uncover any interesting insight(s) using any two visual plots of your choice. (1/2)\n",
    "\n",
    "#5. check that it all works on google colab"
   ]
  },
  {
   "cell_type": "code",
   "execution_count": 80,
   "metadata": {},
   "outputs": [],
   "source": [
    "# import relevant libraries - note i'm doing this first in VScode (for faster IntelliSense & version control)\n",
    "import pandas as pd\n",
    "import numpy as np\n",
    "import seaborn as sns\n",
    "from matplotlib import pyplot as plt"
   ]
  },
  {
   "cell_type": "code",
   "execution_count": 81,
   "metadata": {},
   "outputs": [
    {
     "name": "stdout",
     "output_type": "stream",
     "text": [
      "<class 'pandas.core.frame.DataFrame'>\n",
      "RangeIndex: 151112 entries, 0 to 151111\n",
      "Data columns (total 10 columns):\n",
      " #   Column          Non-Null Count   Dtype  \n",
      "---  ------          --------------   -----  \n",
      " 0   user_id         151112 non-null  int64  \n",
      " 1   purchase_value  151112 non-null  int64  \n",
      " 2   device_id       151112 non-null  object \n",
      " 3   source          151112 non-null  object \n",
      " 4   browser         151112 non-null  object \n",
      " 5   sex             151112 non-null  object \n",
      " 6   age             144546 non-null  float64\n",
      " 7   ip_address      151112 non-null  float64\n",
      " 8   days            151112 non-null  int64  \n",
      " 9   is_fraud        151112 non-null  int64  \n",
      "dtypes: float64(2), int64(4), object(4)\n",
      "memory usage: 11.5+ MB\n"
     ]
    }
   ],
   "source": [
    "df = pd.read_excel('Fraud_Data_Final.xlsx')\n",
    "df.info() #check data imports sucessfully & get info on the data"
   ]
  },
  {
   "cell_type": "code",
   "execution_count": 82,
   "metadata": {},
   "outputs": [
    {
     "name": "stdout",
     "output_type": "stream",
     "text": [
      "user_id           0.000000\n",
      "purchase_value    0.000000\n",
      "device_id         0.000000\n",
      "source            0.000000\n",
      "browser           0.000000\n",
      "sex               0.000000\n",
      "age               4.345121\n",
      "ip_address        0.000000\n",
      "days              0.000000\n",
      "is_fraud          0.000000\n",
      "dtype: float64\n"
     ]
    }
   ],
   "source": [
    "print(df.isnull().mean() * 100) #use isnull with mean to check for pct(%) of missing values in columns\n"
   ]
  },
  {
   "cell_type": "code",
   "execution_count": 83,
   "metadata": {},
   "outputs": [],
   "source": [
    "# age has  around 4.35% of the total values missing- as such we can remove the rows with missing values if necessary (under 5%)\n",
    "# keep in mind so that we can clean the data up if we need to compare age to something"
   ]
  },
  {
   "cell_type": "code",
   "execution_count": 84,
   "metadata": {},
   "outputs": [
    {
     "data": {
      "image/png": "[encoded data removed]",
      "text/plain": [
       "<Figure size 432x288 with 1 Axes>"
      ]
     },
     "metadata": {},
     "output_type": "display_data"
    }
   ],
   "source": [
    "# Draw piechart to determine percentage of fraud cases in dataset\n",
    "val = df.is_fraud.value_counts()\n",
    "figure1, ax = plt.subplots()\n",
    "explode = (0, 0.2) #explode second slice\n",
    "labels = ('Not Fraud','Fraud') #Add Labels\n",
    "\n",
    "ax.pie(val.values, explode=explode, autopct='%.2f%%',labels=labels)\n",
    "plt.show()"
   ]
  },
  {
   "cell_type": "code",
   "execution_count": 85,
   "metadata": {},
   "outputs": [],
   "source": [
    "# Around 9.36% of cases are fraud\n",
    "# We can try to plot 2 histograms with the fraud vs non fraud data vs concentration of purchase price - \n",
    "# it's possible that fraud purchases could be more or less expensive, showing a skew"
   ]
  },
  {
   "cell_type": "code",
   "execution_count": 96,
   "metadata": {},
   "outputs": [
    {
     "data": {
      "image/png": "[encoded data removed]",
      "text/plain": [
       "<Figure size 432x288 with 1 Axes>"
      ]
     },
     "metadata": {
      "needs_background": "light"
     },
     "output_type": "display_data"
    }
   ],
   "source": [
    "# Deleted the old, non-regex way which involved splitting the data into 2 dfs. This is cleaner\n",
    "\n",
    "# Plotted in sns. I prefer how it looks. - https://seaborn.pydata.org/generated/seaborn.histplot.html\n",
    "# Done with regex - https://kanoki.org/2019/11/12/how-to-use-regex-in-pandas/\n",
    "\n",
    "# A few comments on the params passed\n",
    "# bins=30 - we choose a lower bin value so that the histogram is less 'spotty', won't affect kde anyways\n",
    "# stat='density' - This normalizes the areas of both hisotgrams to 1, making them directly comparable\n",
    "#           - (pct(%) or probability would result in the non fraud hist being notably smaller.) \n",
    "# kde - kernel density emulation helps us build an easily readable smoothed probabiltiy line, making the skew easy to see\n",
    "# log_scale - the raw data is extremely skewed so logaritmic scaling helps make the significant data take up more space along the x-axis.\n",
    "sns.histplot(df[df['is_fraud']==1]['purchase_value'], bins=30, stat='density', kde=True, log_scale=True, element=\"step\", label = 'fraud', color=\"Orange\")\n",
    "sns.histplot(df[df['is_fraud']==0]['purchase_value'], bins=30, stat='density', kde=True, log_scale=True, element=\"step\", label = 'non fraud')\n",
    "plt.legend()\n",
    "plt.show()"
   ]
  },
  {
   "cell_type": "code",
   "execution_count": 87,
   "metadata": {},
   "outputs": [],
   "source": [
    "# We normalize the histogram to density so that the areas of the histogram are equal, making it easier to see the similiarty/difference in the skews\n",
    "# we can see that the distribution of purchase value for fraud and non fraud cases both have similar distribution curves,\n",
    "# therefore, purchase value is inconclusive to test for fraudulent cases\n",
    "\n",
    "# Another possibility is the time (in the df, 'days') of the purchase. It's possible that the fradulent cases have a different skew in purchase time"
   ]
  },
  {
   "cell_type": "code",
   "execution_count": 88,
   "metadata": {},
   "outputs": [
    {
     "data": {
      "text/plain": [
       "<AxesSubplot:xlabel='days', ylabel='Probability'>"
      ]
     },
     "execution_count": 88,
     "metadata": {},
     "output_type": "execute_result"
    },
    {
     "data": {
      "image/png": "[encoded data removed]",
      "text/plain": [
       "<Figure size 432x288 with 1 Axes>"
      ]
     },
     "metadata": {
      "needs_background": "light"
     },
     "output_type": "display_data"
    }
   ],
   "source": [
    "sns.histplot(df[df['is_fraud']==1]['days'],bins=50, stat='probability',color=\"Orange\", element=\"step\")\n",
    "sns.histplot(df[df['is_fraud']==0]['days'],bins=50, stat='probability', element=\"step\")"
   ]
  }
 ],
 "metadata": {
  "interpreter": {
   "hash": "f6d1656d486d8a047eab5a4d8a3339a2b0fcf3494e8697291b4e3406840e7ad7"
  },
  "kernelspec": {
   "display_name": "Python 3.9.7 64-bit (windows store)",
   "name": "python3"
  },
  "language_info": {
   "codemirror_mode": {
    "name": "ipython",
    "version": 3
   },
   "file_extension": ".py",
   "mimetype": "text/x-python",
   "name": "python",
   "nbconvert_exporter": "python",
   "pygments_lexer": "ipython3",
   "version": "3.9.7"
  },
  "orig_nbformat": 4
 },
 "nbformat": 4,
 "nbformat_minor": 2
}
