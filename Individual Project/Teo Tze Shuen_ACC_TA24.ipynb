{
 "cells": [
  {
   "cell_type": "code",
   "execution_count": 2,
   "metadata": {},
   "outputs": [],
   "source": [
    "#Teo Tze Shuen\n",
    "#S10204885\n",
    "#Diploma in Accountancy\n",
    "#TA24"
   ]
  },
  {
   "cell_type": "code",
   "execution_count": 3,
   "metadata": {},
   "outputs": [],
   "source": [
    "#TODO - delete when done with project\n",
    "#1. Create non-visual or visual plots to inspect each categorical and numeric field.\n",
    "#2.\tIdentify potential data quality issues including data types.\n",
    "#3.\tClean up the data for the issues identified.\n",
    "#4.\tPerform further data exploration on the cleaned data to uncover any interesting insight(s) using any two visual plots of your choice. "
   ]
  },
  {
   "cell_type": "code",
   "execution_count": 4,
   "metadata": {},
   "outputs": [],
   "source": [
    "#import relevant libraries - note i'm doing this first in VScode (for faster IntelliSense & version control)\n",
    "import pandas as pd\n",
    "import numpy as np\n",
    "import seaborn as sb\n",
    "from matplotlib import pyplot as plt\n",
    "from datetime import datetime"
   ]
  },
  {
   "cell_type": "code",
   "execution_count": 5,
   "metadata": {},
   "outputs": [
    {
     "name": "stdout",
     "output_type": "stream",
     "text": [
      "<class 'pandas.core.frame.DataFrame'>\n",
      "RangeIndex: 151112 entries, 0 to 151111\n",
      "Data columns (total 10 columns):\n",
      " #   Column          Non-Null Count   Dtype  \n",
      "---  ------          --------------   -----  \n",
      " 0   user_id         151112 non-null  int64  \n",
      " 1   purchase_value  151112 non-null  int64  \n",
      " 2   device_id       151112 non-null  object \n",
      " 3   source          151112 non-null  object \n",
      " 4   browser         151112 non-null  object \n",
      " 5   sex             151112 non-null  object \n",
      " 6   age             144546 non-null  float64\n",
      " 7   ip_address      151112 non-null  float64\n",
      " 8   days            151112 non-null  int64  \n",
      " 9   is_fraud        151112 non-null  int64  \n",
      "dtypes: float64(2), int64(4), object(4)\n",
      "memory usage: 11.5+ MB\n"
     ]
    }
   ],
   "source": [
    "data = pd.read_excel('Fraud_Data_Final.xlsx')\n",
    "data.info() #check data imports sucessfully & get info on the data"
   ]
  },
  {
   "cell_type": "code",
   "execution_count": 6,
   "metadata": {},
   "outputs": [
    {
     "data": {
      "text/plain": [
       "user_id              0\n",
       "purchase_value       0\n",
       "device_id            0\n",
       "source               0\n",
       "browser              0\n",
       "sex                  0\n",
       "age               6566\n",
       "ip_address           0\n",
       "days                 0\n",
       "is_fraud             0\n",
       "dtype: int64"
      ]
     },
     "execution_count": 6,
     "metadata": {},
     "output_type": "execute_result"
    }
   ],
   "source": [
    "data.isnull().sum() #use isnull to check for missing values - then use .sum to total up so I don't have to look through each row\n",
    "#age has 6566 missing values"
   ]
  },
  {
   "cell_type": "code",
   "execution_count": 39,
   "metadata": {},
   "outputs": [
    {
     "data": {
      "image/png": "[encoded data removed]",
      "text/plain": [
       "<Figure size 432x288 with 1 Axes>"
      ]
     },
     "metadata": {},
     "output_type": "display_data"
    }
   ],
   "source": [
    "val = data.is_fraud.value_counts()\n",
    "fig1, ax1 = plt.subplots()\n",
    "\n",
    "def make_autopct(values): #return  percentage (actual value) - https://stackoverflow.com/questions/6170246/how-do-i-use-matplotlib-autopct\n",
    "    def my_autopct(pct):\n",
    "        total = sum(values)\n",
    "        val = int(round(pct*total/100.0))\n",
    "        return '{p:.2f}%  ({v:d})'.format(p=pct,v=val) #percentage to 2dp\n",
    "    return my_autopct\n",
    "\n",
    "ax1.pie(val.values, labels=val.index,autopct=make_autopct(val), startangle=0)\n",
    "\n",
    "plt.show()"
   ]
  }
 ],
 "metadata": {
  "interpreter": {
   "hash": "f6d1656d486d8a047eab5a4d8a3339a2b0fcf3494e8697291b4e3406840e7ad7"
  },
  "kernelspec": {
   "display_name": "Python 3.9.7 64-bit (windows store)",
   "name": "python3"
  },
  "language_info": {
   "codemirror_mode": {
    "name": "ipython",
    "version": 3
   },
   "file_extension": ".py",
   "mimetype": "text/x-python",
   "name": "python",
   "nbconvert_exporter": "python",
   "pygments_lexer": "ipython3",
   "version": "3.9.7"
  },
  "orig_nbformat": 4
 },
 "nbformat": 4,
 "nbformat_minor": 2
}
